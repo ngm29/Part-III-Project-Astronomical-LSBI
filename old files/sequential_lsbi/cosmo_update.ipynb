{
 "cells": [
  {
   "cell_type": "markdown",
   "id": "886aa2b8",
   "metadata": {},
   "source": [
    "Define LSBI inference function"
   ]
  },
  {
   "cell_type": "code",
   "execution_count": 1,
   "id": "64bf81a3",
   "metadata": {
    "ExecuteTime": {
     "end_time": "2024-08-01T16:02:43.729832Z",
     "start_time": "2024-08-01T16:02:38.929666Z"
    }
   },
   "outputs": [
    {
     "name": "stderr",
     "output_type": "stream",
     "text": [
      "/Users/nicolasmediatodiaz/Library/Python/3.9/lib/python/site-packages/scipy/__init__.py:132: UserWarning: A NumPy version >=1.21.6 and <1.28.0 is required for this version of SciPy (detected version 2.0.1)\n",
      "  warnings.warn(f\"A NumPy version >={np_minversion} and <{np_maxversion}\"\n"
     ]
    },
    {
     "ename": "ValueError",
     "evalue": "numpy.dtype size changed, may indicate binary incompatibility. Expected 96 from C header, got 88 from PyObject",
     "output_type": "error",
     "traceback": [
      "\u001B[0;31m---------------------------------------------------------------------------\u001B[0m",
      "\u001B[0;31mValueError\u001B[0m                                Traceback (most recent call last)",
      "Cell \u001B[0;32mIn[1], line 2\u001B[0m\n\u001B[1;32m      1\u001B[0m \u001B[38;5;28;01mimport\u001B[39;00m \u001B[38;5;21;01mnumpy\u001B[39;00m \u001B[38;5;28;01mas\u001B[39;00m \u001B[38;5;21;01mnp\u001B[39;00m\n\u001B[0;32m----> 2\u001B[0m \u001B[38;5;28;01mfrom\u001B[39;00m \u001B[38;5;21;01mscipy\u001B[39;00m\u001B[38;5;21;01m.\u001B[39;00m\u001B[38;5;21;01mstats\u001B[39;00m \u001B[38;5;28;01mimport\u001B[39;00m invwishart, matrix_normal, multivariate_normal\n\u001B[1;32m      3\u001B[0m \u001B[38;5;28;01mfrom\u001B[39;00m \u001B[38;5;21;01mlsbi\u001B[39;00m\u001B[38;5;21;01m.\u001B[39;00m\u001B[38;5;21;01mmodel\u001B[39;00m \u001B[38;5;28;01mimport\u001B[39;00m LinearModel\n\u001B[1;32m      5\u001B[0m \u001B[38;5;28;01mdef\u001B[39;00m \u001B[38;5;21mLSBI\u001B[39m(θ, D, \u001B[38;5;241m*\u001B[39margs, \u001B[38;5;241m*\u001B[39m\u001B[38;5;241m*\u001B[39mkwargs):\n",
      "File \u001B[0;32m~/Library/Python/3.9/lib/python/site-packages/scipy/stats/__init__.py:608\u001B[0m\n\u001B[1;32m      1\u001B[0m \u001B[38;5;124;03m\"\"\"\u001B[39;00m\n\u001B[1;32m      2\u001B[0m \u001B[38;5;124;03m.. _statsrefmanual:\u001B[39;00m\n\u001B[1;32m      3\u001B[0m \n\u001B[0;32m   (...)\u001B[0m\n\u001B[1;32m    603\u001B[0m \n\u001B[1;32m    604\u001B[0m \u001B[38;5;124;03m\"\"\"\u001B[39;00m\n\u001B[1;32m    606\u001B[0m \u001B[38;5;28;01mfrom\u001B[39;00m \u001B[38;5;21;01m.\u001B[39;00m\u001B[38;5;21;01m_warnings_errors\u001B[39;00m \u001B[38;5;28;01mimport\u001B[39;00m (ConstantInputWarning, NearConstantInputWarning,\n\u001B[1;32m    607\u001B[0m                                DegenerateDataWarning, FitError)\n\u001B[0;32m--> 608\u001B[0m \u001B[38;5;28;01mfrom\u001B[39;00m \u001B[38;5;21;01m.\u001B[39;00m\u001B[38;5;21;01m_stats_py\u001B[39;00m \u001B[38;5;28;01mimport\u001B[39;00m \u001B[38;5;241m*\u001B[39m\n\u001B[1;32m    609\u001B[0m \u001B[38;5;28;01mfrom\u001B[39;00m \u001B[38;5;21;01m.\u001B[39;00m\u001B[38;5;21;01m_variation\u001B[39;00m \u001B[38;5;28;01mimport\u001B[39;00m variation\n\u001B[1;32m    610\u001B[0m \u001B[38;5;28;01mfrom\u001B[39;00m \u001B[38;5;21;01m.\u001B[39;00m\u001B[38;5;21;01mdistributions\u001B[39;00m \u001B[38;5;28;01mimport\u001B[39;00m \u001B[38;5;241m*\u001B[39m\n",
      "File \u001B[0;32m~/Library/Python/3.9/lib/python/site-packages/scipy/stats/_stats_py.py:39\u001B[0m\n\u001B[1;32m     36\u001B[0m \u001B[38;5;28;01mfrom\u001B[39;00m \u001B[38;5;21;01mnumpy\u001B[39;00m\u001B[38;5;21;01m.\u001B[39;00m\u001B[38;5;21;01mlib\u001B[39;00m \u001B[38;5;28;01mimport\u001B[39;00m NumpyVersion\n\u001B[1;32m     37\u001B[0m \u001B[38;5;28;01mfrom\u001B[39;00m \u001B[38;5;21;01mnumpy\u001B[39;00m\u001B[38;5;21;01m.\u001B[39;00m\u001B[38;5;21;01mtesting\u001B[39;00m \u001B[38;5;28;01mimport\u001B[39;00m suppress_warnings\n\u001B[0;32m---> 39\u001B[0m \u001B[38;5;28;01mfrom\u001B[39;00m \u001B[38;5;21;01mscipy\u001B[39;00m\u001B[38;5;21;01m.\u001B[39;00m\u001B[38;5;21;01mspatial\u001B[39;00m\u001B[38;5;21;01m.\u001B[39;00m\u001B[38;5;21;01mdistance\u001B[39;00m \u001B[38;5;28;01mimport\u001B[39;00m cdist\n\u001B[1;32m     40\u001B[0m \u001B[38;5;28;01mfrom\u001B[39;00m \u001B[38;5;21;01mscipy\u001B[39;00m\u001B[38;5;21;01m.\u001B[39;00m\u001B[38;5;21;01mndimage\u001B[39;00m \u001B[38;5;28;01mimport\u001B[39;00m _measurements\n\u001B[1;32m     41\u001B[0m \u001B[38;5;28;01mfrom\u001B[39;00m \u001B[38;5;21;01mscipy\u001B[39;00m\u001B[38;5;21;01m.\u001B[39;00m\u001B[38;5;21;01m_lib\u001B[39;00m\u001B[38;5;21;01m.\u001B[39;00m\u001B[38;5;21;01m_util\u001B[39;00m \u001B[38;5;28;01mimport\u001B[39;00m (check_random_state, MapWrapper, _get_nan,\n\u001B[1;32m     42\u001B[0m                               rng_integers, _rename_parameter, _contains_nan)\n",
      "File \u001B[0;32m~/Library/Python/3.9/lib/python/site-packages/scipy/spatial/__init__.py:110\u001B[0m\n\u001B[1;32m      1\u001B[0m \u001B[38;5;124;03m\"\"\"\u001B[39;00m\n\u001B[1;32m      2\u001B[0m \u001B[38;5;124;03m=============================================================\u001B[39;00m\n\u001B[1;32m      3\u001B[0m \u001B[38;5;124;03mSpatial algorithms and data structures (:mod:`scipy.spatial`)\u001B[39;00m\n\u001B[0;32m   (...)\u001B[0m\n\u001B[1;32m    107\u001B[0m \u001B[38;5;124;03m   QhullError\u001B[39;00m\n\u001B[1;32m    108\u001B[0m \u001B[38;5;124;03m\"\"\"\u001B[39;00m\n\u001B[0;32m--> 110\u001B[0m \u001B[38;5;28;01mfrom\u001B[39;00m \u001B[38;5;21;01m.\u001B[39;00m\u001B[38;5;21;01m_kdtree\u001B[39;00m \u001B[38;5;28;01mimport\u001B[39;00m \u001B[38;5;241m*\u001B[39m\n\u001B[1;32m    111\u001B[0m \u001B[38;5;28;01mfrom\u001B[39;00m \u001B[38;5;21;01m.\u001B[39;00m\u001B[38;5;21;01m_ckdtree\u001B[39;00m \u001B[38;5;28;01mimport\u001B[39;00m \u001B[38;5;241m*\u001B[39m\n\u001B[1;32m    112\u001B[0m \u001B[38;5;28;01mfrom\u001B[39;00m \u001B[38;5;21;01m.\u001B[39;00m\u001B[38;5;21;01m_qhull\u001B[39;00m \u001B[38;5;28;01mimport\u001B[39;00m \u001B[38;5;241m*\u001B[39m\n",
      "File \u001B[0;32m~/Library/Python/3.9/lib/python/site-packages/scipy/spatial/_kdtree.py:4\u001B[0m\n\u001B[1;32m      1\u001B[0m \u001B[38;5;66;03m# Copyright Anne M. Archibald 2008\u001B[39;00m\n\u001B[1;32m      2\u001B[0m \u001B[38;5;66;03m# Released under the scipy license\u001B[39;00m\n\u001B[1;32m      3\u001B[0m \u001B[38;5;28;01mimport\u001B[39;00m \u001B[38;5;21;01mnumpy\u001B[39;00m \u001B[38;5;28;01mas\u001B[39;00m \u001B[38;5;21;01mnp\u001B[39;00m\n\u001B[0;32m----> 4\u001B[0m \u001B[38;5;28;01mfrom\u001B[39;00m \u001B[38;5;21;01m.\u001B[39;00m\u001B[38;5;21;01m_ckdtree\u001B[39;00m \u001B[38;5;28;01mimport\u001B[39;00m cKDTree, cKDTreeNode\n\u001B[1;32m      6\u001B[0m __all__ \u001B[38;5;241m=\u001B[39m [\u001B[38;5;124m'\u001B[39m\u001B[38;5;124mminkowski_distance_p\u001B[39m\u001B[38;5;124m'\u001B[39m, \u001B[38;5;124m'\u001B[39m\u001B[38;5;124mminkowski_distance\u001B[39m\u001B[38;5;124m'\u001B[39m,\n\u001B[1;32m      7\u001B[0m            \u001B[38;5;124m'\u001B[39m\u001B[38;5;124mdistance_matrix\u001B[39m\u001B[38;5;124m'\u001B[39m,\n\u001B[1;32m      8\u001B[0m            \u001B[38;5;124m'\u001B[39m\u001B[38;5;124mRectangle\u001B[39m\u001B[38;5;124m'\u001B[39m, \u001B[38;5;124m'\u001B[39m\u001B[38;5;124mKDTree\u001B[39m\u001B[38;5;124m'\u001B[39m]\n\u001B[1;32m     11\u001B[0m \u001B[38;5;28;01mdef\u001B[39;00m \u001B[38;5;21mminkowski_distance_p\u001B[39m(x, y, p\u001B[38;5;241m=\u001B[39m\u001B[38;5;241m2\u001B[39m):\n",
      "File \u001B[0;32m_ckdtree.pyx:1\u001B[0m, in \u001B[0;36minit scipy.spatial._ckdtree\u001B[0;34m()\u001B[0m\n",
      "\u001B[0;31mValueError\u001B[0m: numpy.dtype size changed, may indicate binary incompatibility. Expected 96 from C header, got 88 from PyObject"
     ]
    }
   ],
   "source": [
    "import numpy as np\n",
    "from scipy.stats import invwishart, matrix_normal, multivariate_normal\n",
    "from lsbi.model import LinearModel\n",
    "\n",
    "def LSBI(θ, D, *args, **kwargs):\n",
    "    shape = kwargs.pop('shape', ())\n",
    "    if isinstance(shape, int):\n",
    "        shape = (shape,)\n",
    "    k, n = θ.shape\n",
    "    d = D.shape[1]\n",
    "    θD = np.concatenate([θ, D], axis=1)\n",
    "    mean = θD.mean(axis=0)\n",
    "    θbar = mean[:n]\n",
    "    Dbar = mean[n:]\n",
    "\n",
    "    cov = np.cov(θD.T)\n",
    "    Θ = cov[:n, :n]\n",
    "    Δ = cov[n:, n:]\n",
    "    Ψ = cov[n:, :n]\n",
    "    ν = k - d - n - 2\n",
    "    invΘ = np.linalg.inv(Θ)\n",
    "\n",
    "    C_ = invwishart(df=ν, scale=k*(Δ-Ψ @ invΘ @ Ψ.T)).rvs(shape)\n",
    "    L1 = np.linalg.cholesky(C_/k)\n",
    "    L2 = np.linalg.cholesky(invΘ)\n",
    "    M_ = Ψ @ invΘ + np.einsum('...jk,...kl,ml->...jm', L1, np.random.randn(*shape, d, n), L2)\n",
    "    m_ = Dbar - M_ @ θbar + np.einsum('...jk,...k->...j', L1, np.random.randn(*shape, d))\n",
    "    return LinearModel(m=m_, M=M_, C=C_, *args, **kwargs)"
   ]
  },
  {
   "cell_type": "markdown",
   "id": "af98e5e7",
   "metadata": {},
   "source": [
    "Define CMB sampling class"
   ]
  },
  {
   "cell_type": "code",
   "execution_count": null,
   "id": "a7694b6c",
   "metadata": {
    "ExecuteTime": {
     "start_time": "2024-08-01T16:02:43.728799Z"
    }
   },
   "outputs": [],
   "source": [
    "from scipy.stats import chi2\n",
    "\n",
    "class CMB(object):\n",
    "    def __init__(self, Cl):\n",
    "        self.Cl = Cl\n",
    "\n",
    "    def rvs(self, shape=()):\n",
    "        shape = tuple(np.atleast_1d(shape))\n",
    "        return chi2(2*l+1).rvs(shape + self.Cl.shape)*self.Cl/(2*l+1)\n",
    "\n",
    "    def logpdf(self, x):\n",
    "        return (chi2(2*l+1).logpdf((2*l+1)*x/self.Cl)  + np.log(2*l+1)-np.log(self.Cl)).sum(axis=-1) \n",
    "\n",
    "from cosmopower_jax.cosmopower_jax import CosmoPowerJAX \n",
    "emulator = CosmoPowerJAX(probe='cmb_tt')"
   ]
  },
  {
   "cell_type": "markdown",
   "id": "73510ac4",
   "metadata": {},
   "source": [
    "Generate some simulations"
   ]
  },
  {
   "cell_type": "code",
   "execution_count": null,
   "id": "65669b32",
   "metadata": {
    "ExecuteTime": {
     "start_time": "2024-08-01T16:02:43.730715Z"
    }
   },
   "outputs": [],
   "source": [
    "np.random.seed(0)\n",
    "paramnames = [('Ωbh2', r'\\Omega_b h^2'), ('Ωch2', r'\\Omega_c h^2'), ('h', 'h'), ('τ', r'\\tau'), ('ns', r'n_s'), ('lnA', r'\\ln(10^{10}A_s)')]\n",
    "params = ['Ωbh2', 'Ωch2', 'h', 'τ', 'ns', 'lnA']\n",
    "θmin, θmax = np.array([[0.01865, 0.02625], [0.05, 0.255], [0.64, 0.82], [0.04, 0.12], [0.84, 1.1], [1.61, 3.91]]).T\n",
    "Nsim = 10000\n",
    "θ = np.random.uniform(θmin, θmax, size=(Nsim, 6))\n",
    "l = np.arange(2, 2509)\n",
    "Cl = emulator.predict(θ)\n",
    "D = CMB(Cl).rvs()"
   ]
  },
  {
   "cell_type": "markdown",
   "id": "45a5d088",
   "metadata": {},
   "source": [
    "Define the observed variables"
   ]
  },
  {
   "cell_type": "code",
   "execution_count": null,
   "id": "08b2fd79",
   "metadata": {
    "ExecuteTime": {
     "end_time": "2024-08-01T16:02:43.734465Z",
     "start_time": "2024-08-01T16:02:43.732511Z"
    }
   },
   "outputs": [],
   "source": [
    "θobs = θ[0]\n",
    "Dobs = D[0]"
   ]
  },
  {
   "cell_type": "markdown",
   "id": "dee62c56",
   "metadata": {},
   "source": [
    "If you want to reproduce the ground-truth yourself, uncomment and run the below (takes about an hour on four cores)"
   ]
  },
  {
   "cell_type": "code",
   "execution_count": null,
   "id": "56cbced1",
   "metadata": {
    "ExecuteTime": {
     "end_time": "2024-08-01T16:02:43.734633Z",
     "start_time": "2024-08-01T16:02:43.734562Z"
    }
   },
   "outputs": [],
   "source": [
    "#from pypolychord import run\n",
    "#samples = run(lambda θ: CMB(emulator.predict(θ)).logpdf(Dobs), len(θmin), prior=lambda x: θmin + (θmax-θmin)*x, paramnames=paramnames)\n",
    "#samples.to_csv('lcdm.csv')"
   ]
  },
  {
   "cell_type": "markdown",
   "id": "8cda452d",
   "metadata": {},
   "source": [
    "Otherwise just load these chains"
   ]
  },
  {
   "cell_type": "code",
   "execution_count": null,
   "id": "6ad9951c",
   "metadata": {
    "ExecuteTime": {
     "start_time": "2024-08-01T16:02:43.736175Z"
    }
   },
   "outputs": [],
   "source": [
    "from anesthetic import read_chains\n",
    "samples = read_chains('lcdm.csv')"
   ]
  },
  {
   "cell_type": "markdown",
   "id": "7fe85d3a",
   "metadata": {},
   "source": [
    "Run sequential LSBI"
   ]
  },
  {
   "cell_type": "code",
   "execution_count": null,
   "id": "3dd35968",
   "metadata": {
    "ExecuteTime": {
     "start_time": "2024-08-01T16:02:43.737898Z"
    }
   },
   "outputs": [],
   "source": [
    "import tqdm\n",
    "for i in tqdm.trange(4):\n",
    "    if i == 0:\n",
    "        models = [LSBI(θ, D, μ= (θmin + θmax)/2, Σ= (θmax - θmin)**2)]\n",
    "    else:\n",
    "        θ_ = models[-1].posterior(Dobs).rvs(Nsim)\n",
    "        D_ = CMB(emulator.predict(θ_)).rvs() \n",
    "        models.append(LSBI(θ_, D_, μ=models[-1].μ, Σ=models[-1].Σ))"
   ]
  },
  {
   "cell_type": "markdown",
   "id": "7312d0a2",
   "metadata": {},
   "source": [
    "Plot the results"
   ]
  },
  {
   "cell_type": "code",
   "execution_count": null,
   "id": "60c6284b",
   "metadata": {
    "ExecuteTime": {
     "start_time": "2024-08-01T16:02:43.739081Z"
    }
   },
   "outputs": [],
   "source": [
    "from anesthetic.plot import make_2d_axes\n",
    "fig, axes = make_2d_axes(params, labels=samples.get_labels_map())\n",
    "\n",
    "axes = models[0].prior().plot_2d(axes, label='prior')\n",
    "for i, model in enumerate(models):\n",
    "    axes = model.posterior(Dobs).plot_2d(axes, label=f'round {i}')\n",
    "axes.axlines(dict(zip(params, θobs)), color='k', ls='--')\n",
    "\n",
    "legend = axes.iloc[-1,  0].legend(loc='lower center', bbox_to_anchor=(len(axes)/2, len(axes)), ncol=5)"
   ]
  },
  {
   "cell_type": "markdown",
   "id": "5b9ef007",
   "metadata": {},
   "source": [
    "Focus on the non-prior region\n",
    "\n",
    " We can see clearly that the first (orange) posterior does an OK job, but is much improved at subsequent rounds. Comparing with the ground truth however show that it is overconfident"
   ]
  },
  {
   "cell_type": "code",
   "execution_count": null,
   "id": "c6689aaf",
   "metadata": {
    "ExecuteTime": {
     "start_time": "2024-08-01T16:02:43.740164Z"
    }
   },
   "outputs": [],
   "source": [
    "fig, axes = make_2d_axes(params, labels=samples.get_labels_map())\n",
    "\n",
    "axes = models[0].prior().plot_2d(axes, label='prior')\n",
    "for i, model in enumerate(models):\n",
    "    axes = model.posterior(Dobs).plot_2d(axes, label=f'round {i}')\n",
    "axes.axlines(dict(zip(params, θobs)), color='k', ls='--')\n",
    "\n",
    "for p in params:\n",
    "    axes.loc[p, p].set_xlim(samples.mean()[p] - 5* samples.std()[p], samples.mean()[p] + 5* samples.std()[p])\n",
    "\n",
    "samples.plot_2d(axes, color='k', alpha=0.5, label='ground truth')\n",
    "\n",
    "legend = axes.iloc[-1,  0].legend(loc='lower center', bbox_to_anchor=(len(axes)/2, len(axes)), ncol=6)"
   ]
  },
  {
   "cell_type": "markdown",
   "id": "882e85f2",
   "metadata": {},
   "source": [
    "Plot the KL divergence to show convergence"
   ]
  },
  {
   "cell_type": "code",
   "execution_count": null,
   "id": "d765531f",
   "metadata": {
    "ExecuteTime": {
     "start_time": "2024-08-01T16:02:43.741234Z"
    }
   },
   "outputs": [],
   "source": [
    "import matplotlib.pyplot as plt\n",
    "fig, ax = plt.subplots()\n",
    "ax.plot([model.dkl(Dobs) for model in models])\n",
    "ax.set_xlabel('round')\n",
    "ax.set_xticks(np.arange(len(models)))\n",
    "ax.set_ylabel(r'$D_\\text{KL}$')"
   ]
  },
  {
   "cell_type": "markdown",
   "id": "3fa39bbd",
   "metadata": {},
   "source": [
    "Plot the covariance matrices over the rounds"
   ]
  },
  {
   "cell_type": "code",
   "execution_count": null,
   "id": "004a6dd5",
   "metadata": {
    "ExecuteTime": {
     "start_time": "2024-08-01T16:02:43.742613Z"
    }
   },
   "outputs": [],
   "source": [
    "fig, axes = plt.subplots(1,3)\n",
    "for model, ax in zip(models, axes):\n",
    "    ax.imshow(model.C / np.sqrt(np.diag(model.C)) / np.sqrt(np.diag(model.C))[:,None])\n",
    "    ax.set_title(f'round {i}')\n",
    "fig.suptitle('correlation matrices')"
   ]
  }
 ],
 "metadata": {
  "kernelspec": {
   "name": "python3",
   "language": "python",
   "display_name": "Python 3 (ipykernel)"
  },
  "language_info": {
   "codemirror_mode": {
    "name": "ipython",
    "version": 3
   },
   "file_extension": ".py",
   "mimetype": "text/x-python",
   "name": "python",
   "nbconvert_exporter": "python",
   "pygments_lexer": "ipython3",
   "version": "3.12.4"
  }
 },
 "nbformat": 4,
 "nbformat_minor": 5
}
